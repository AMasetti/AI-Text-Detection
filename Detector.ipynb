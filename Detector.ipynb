{
 "cells": [
  {
   "cell_type": "code",
   "execution_count": null,
   "metadata": {},
   "outputs": [],
   "source": [
    "from model import GPT2PPL\n",
    "\n",
    "model = GPT2PPL()"
   ]
  },
  {
   "cell_type": "markdown",
   "metadata": {},
   "source": [
    "# Text that contains a percentage of AI Generated Content"
   ]
  },
  {
   "cell_type": "code",
   "execution_count": 3,
   "metadata": {},
   "outputs": [
    {
     "name": "stdout",
     "output_type": "stream",
     "text": [
      "Perplexity 65\n",
      "Human Generated: La Fórmula 1, un torbellino de velocidad, tecnología y estrategia, es mucho más que una simple competencia de automóviles. Perplexity 131\n",
      "Most probably AI Generated: Es un espectáculo que desafía los límites de la ingeniería y el rendimiento humano, donde pilotos y máquinas se fusionan en una danza de precisión y velocidad. Perplexity 100\n",
      "Human Generated: En el corazón de la Fórmula 1 yace la búsqueda implacable de la excelencia. Perplexity 193\n",
      "AI Generated: Los equipos invierten millones en investigación y desarrollo para crear máquinas que sean más rápidas, más eficientes y más aerodinámicas. Perplexity 74\n",
      "Human Generated: Cada temporada trae consigo innovaciones técnicas que empujan los límites de lo posible, desde sistemas de propulsión híbridos hasta materiales revolucionarios. Perplexity 136\n",
      "Human Generated: Pero la Fórmula 1 es más que solo tecnología punta; también es un deporte de élite donde los pilotos son los héroes modernos. Perplexity 144\n",
      "Human Generated: Su habilidad para dominar estos monstruos de velocidad, su valentía para enfrentarse a curvas ciegas a velocidades vertiginosas y su astucia para leer la estrategia de la carrera los convierten en verdaderos maestros de su oficio. Perplexity 134\n",
      "Human Generated: Cada Gran Premio es una epopeya en sí misma, una batalla estratégica que se libra en el asfalto. Perplexity 238\n",
      "Most probably AI Generated: Desde las calles estrechas del principado de Mónaco hasta los vastos circuitos de Spa-Francorchamps, cada pista tiene su propia personalidad y desafíos únicos. Perplexity 109\n",
      "Human Generated: Los adelantamientos audaces, las paradas en boxes cronometradas con precisión milimétrica y las estrategias de neumáticos calculadas al detalle son solo algunas de las emociones que hacen latir el corazón de los aficionados. Perplexity 181\n",
      "Most probably AI Generated: Pero la Fórmula 1 también tiene su lado humano, con historias de triunfo y tragedia que se entrelazan en la cinta del tiempo del deporte. Perplexity 117\n",
      "Human Generated: Desde leyendas como Fangio y Senna hasta héroes contemporáneos como Hamilton y Verstappen, cada piloto deja su huella en la historia de este deporte, recordándonos que, detrás del rugido de los motores, hay personas reales persiguiendo sus sueños. Perplexity 162\n",
      "AI Generated: En última instancia, la Fórmula 1 es una experiencia que va más allá de la velocidad y la tecnología. Perplexity 63\n",
      "AI Generated: Es una celebración de la pasión, la dedicación y la búsqueda incansable de la grandeza. Perplexity 58\n",
      "Human Generated: Es un mundo donde los límites se desdibujan y donde el imposible se convierte en realidad con cada bandera a cuadros ondeando en el horizonte. Perplexity 162\n",
      "Perplexity per line 133.46666666666667\n",
      "Burstiness 238\n",
      "AI Generated percentage 18.75 %\n",
      "Most probably AI Generated percentage 18.75 %\n"
     ]
    },
    {
     "data": {
      "text/plain": [
       "(OrderedDict([('Perplexity', 65),\n",
       "              ('Perplexity per line', 133.46666666666667),\n",
       "              ('Burstiness', 238),\n",
       "              ('label', 1)]),\n",
       " 'The Text is written by Human.')"
      ]
     },
     "execution_count": 3,
     "metadata": {},
     "output_type": "execute_result"
    }
   ],
   "source": [
    "text = \"\"\"\n",
    "La Fórmula 1, un torbellino de velocidad, tecnología y estrategia, es mucho más que una simple competencia de automóviles. Es un espectáculo que desafía los límites de la ingeniería y el rendimiento humano, donde pilotos y máquinas se fusionan en una danza de precisión y velocidad.\n",
    "\n",
    "En el corazón de la Fórmula 1 yace la búsqueda implacable de la excelencia. Los equipos invierten millones en investigación y desarrollo para crear máquinas que sean más rápidas, más eficientes y más aerodinámicas. Cada temporada trae consigo innovaciones técnicas que empujan los límites de lo posible, desde sistemas de propulsión híbridos hasta materiales revolucionarios.\n",
    "\n",
    "Pero la Fórmula 1 es más que solo tecnología punta; también es un deporte de élite donde los pilotos son los héroes modernos. Su habilidad para dominar estos monstruos de velocidad, su valentía para enfrentarse a curvas ciegas a velocidades vertiginosas y su astucia para leer la estrategia de la carrera los convierten en verdaderos maestros de su oficio.\n",
    "\n",
    "Cada Gran Premio es una epopeya en sí misma, una batalla estratégica que se libra en el asfalto. Desde las calles estrechas del principado de Mónaco hasta los vastos circuitos de Spa-Francorchamps, cada pista tiene su propia personalidad y desafíos únicos. Los adelantamientos audaces, las paradas en boxes cronometradas con precisión milimétrica y las estrategias de neumáticos calculadas al detalle son solo algunas de las emociones que hacen latir el corazón de los aficionados.\n",
    "\n",
    "Pero la Fórmula 1 también tiene su lado humano, con historias de triunfo y tragedia que se entrelazan en la cinta del tiempo del deporte. Desde leyendas como Fangio y Senna hasta héroes contemporáneos como Hamilton y Verstappen, cada piloto deja su huella en la historia de este deporte, recordándonos que, detrás del rugido de los motores, hay personas reales persiguiendo sus sueños.\n",
    "\n",
    "En última instancia, la Fórmula 1 es una experiencia que va más allá de la velocidad y la tecnología. Es una celebración de la pasión, la dedicación y la búsqueda incansable de la grandeza. Es un mundo donde los límites se desdibujan y donde el imposible se convierte en realidad con cada bandera a cuadros ondeando en el horizonte.\n",
    "\"\"\"\n",
    "\n",
    "model(text)"
   ]
  },
  {
   "cell_type": "markdown",
   "metadata": {},
   "source": [
    "# Text writen by me"
   ]
  },
  {
   "cell_type": "code",
   "execution_count": 3,
   "metadata": {},
   "outputs": [
    {
     "name": "stdout",
     "output_type": "stream",
     "text": [
      "Perplexity 163\n",
      "Human Generated: La formula 1 es un campeonato mundial que se realiza todos los años con el fin ultimo de coronar al mejor piloto mundial. Perplexity 150\n",
      "Human Generated: Bajo esta formula se definen las caracteristicas del auto y como los equipos deben competir en cada gran premio Perplexity 294\n",
      "Perplexity per line 222.0\n",
      "Burstiness 294\n",
      "AI Generated percentage 0.0 %\n",
      "Most probably AI Generated percentage 0.0 %\n"
     ]
    },
    {
     "data": {
      "text/plain": [
       "(OrderedDict([('Perplexity', 163),\n",
       "              ('Perplexity per line', 222.0),\n",
       "              ('Burstiness', 294),\n",
       "              ('label', 1)]),\n",
       " 'The Text is written by Human.')"
      ]
     },
     "execution_count": 3,
     "metadata": {},
     "output_type": "execute_result"
    }
   ],
   "source": [
    "text = \"\"\"\n",
    "La formula 1 es un campeonato mundial que se realiza todos los años con el fin ultimo de coronar al mejor piloto mundial. Bajo esta formula se definen las caracteristicas del auto y como los equipos deben competir en cada gran premio\n",
    "\"\"\"\n",
    "\n",
    "model(text)"
   ]
  },
  {
   "cell_type": "markdown",
   "metadata": {},
   "source": [
    "# Alice in Wonderland Example (Human Written)"
   ]
  },
  {
   "cell_type": "code",
   "execution_count": 6,
   "metadata": {},
   "outputs": [
    {
     "name": "stdout",
     "output_type": "stream",
     "text": [
      "Perplexity 98\n",
      "Human Generated: Alicia Perplexity 175\n",
      "Human Generated: [2] estaba empezando a aburrirse allí sentada en la orilla junto a Perplexity 643\n",
      "Human Generated: su hermana, sin tener nada que hacer; había echado un par de ojeadas al Perplexity 182\n",
      "AI Generated: libro que esta leía, pero no tenía dibujos ni diálogos, y «¿para qué puede Perplexity 79\n",
      "Human Generated: servir un libro sin dibujos ni diálogos?», se preguntaba Alicia. Perplexity 282\n",
      "Human Generated: De modo que estaba deliberando consigo misma (lo mejor posible, Perplexity 203\n",
      "Human Generated: porque el día caluroso la hacía sentirse soñolienta y boba), tratando de Perplexity 508\n",
      "Human Generated: decidir si el placer de hacer una guirnalda de margaritas justificaba el Perplexity 176\n",
      "Human Generated: esfuerzo de ponerse de pie y recoger las flores, cuando de pronto pasó Perplexity 255\n",
      "Most probably AI Generated: corriendo muy cerca de ella un conejo blanco de ojos rojos. Perplexity 102\n",
      "Human Generated: Eso no tenía nada de demasiado particular, y tampoco le pareció Perplexity 316\n",
      "Human Generated: demasiado desacostumbrado a Alicia que el Conejo se dijese: Perplexity 1113\n",
      "AI Generated: —¡Ay, ay, ay, que llego tarde! Perplexity 47\n",
      "Most probably AI Generated: (Fue sólo mucho después, cuando volvió a pensar en eso, que se le Perplexity 89\n",
      "Human Generated: ocurrió que habría debido desconcertarse; en ese momento le pareció Perplexity 248\n",
      "Human Generated: bastante natural). Perplexity 4074\n",
      "Human Generated: Pero cuando el Conejo sacó un reloj del bolsillo del Perplexity 473\n",
      "Human Generated: chaleco —nada menos—, lo miró y después apuró el paso, Alicia se puso Perplexity 484\n",
      "Human Generated: de pie de un salto porque de golpe se le cruzó por la mente que jamás Perplexity 177\n",
      "Human Generated: había visto antes a un conejo con bolsillo de chaleco ni con reloj para Perplexity 380\n",
      "Human Generated: sacar de ese bolsillo y, ardiendo de curiosidad, corrió por el campo en su Perplexity 189\n",
      "Most probably AI Generated: persecución, y llegó justo a tiempo para verlo desaparecer por una gran Perplexity 92\n",
      "Human Generated: madriguera que había debajo del cerco Perplexity 339\n",
      "Perplexity per line 462.0\n",
      "Burstiness 4074\n",
      "AI Generated percentage 8.33 %\n",
      "Most probably AI Generated percentage 12.5 %\n"
     ]
    },
    {
     "data": {
      "text/plain": [
       "(OrderedDict([('Perplexity', 98),\n",
       "              ('Perplexity per line', 462.0),\n",
       "              ('Burstiness', 4074),\n",
       "              ('label', 1)]),\n",
       " 'The Text is written by Human.')"
      ]
     },
     "execution_count": 6,
     "metadata": {},
     "output_type": "execute_result"
    }
   ],
   "source": [
    "texto = \"\"\"\n",
    "Alicia\n",
    "[2] estaba empezando a aburrirse allí sentada en la orilla junto a\n",
    "su hermana, sin tener nada que hacer; había echado un par de ojeadas al\n",
    "libro que esta leía, pero no tenía dibujos ni diálogos, y «¿para qué puede\n",
    "servir un libro sin dibujos ni diálogos?», se preguntaba Alicia.\n",
    "De modo que estaba deliberando consigo misma (lo mejor posible,\n",
    "porque el día caluroso la hacía sentirse soñolienta y boba), tratando de\n",
    "decidir si el placer de hacer una guirnalda de margaritas justificaba el\n",
    "esfuerzo de ponerse de pie y recoger las flores, cuando de pronto pasó\n",
    "corriendo muy cerca de ella un conejo blanco de ojos rojos.\n",
    "Eso no tenía nada de demasiado particular, y tampoco le pareció\n",
    "demasiado desacostumbrado a Alicia que el Conejo se dijese:\n",
    "—¡Ay, ay, ay, que llego tarde!\n",
    "(Fue sólo mucho después, cuando volvió a pensar en eso, que se le\n",
    "ocurrió que habría debido desconcertarse; en ese momento le pareció\n",
    "bastante natural). Pero cuando el Conejo sacó un reloj del bolsillo del\n",
    "chaleco —nada menos—, lo miró y después apuró el paso, Alicia se puso\n",
    "de pie de un salto porque de golpe se le cruzó por la mente que jamás\n",
    "había visto antes a un conejo con bolsillo de chaleco ni con reloj para\n",
    "sacar de ese bolsillo y, ardiendo de curiosidad, corrió por el campo en su\n",
    "persecución, y llegó justo a tiempo para verlo desaparecer por una gran\n",
    "madriguera que había debajo del cerco\n",
    "\"\"\"\n",
    "\n",
    "model(texto)"
   ]
  },
  {
   "cell_type": "code",
   "execution_count": null,
   "metadata": {},
   "outputs": [],
   "source": []
  }
 ],
 "metadata": {
  "kernelspec": {
   "display_name": "gptzero",
   "language": "python",
   "name": "python3"
  },
  "language_info": {
   "codemirror_mode": {
    "name": "ipython",
    "version": 3
   },
   "file_extension": ".py",
   "mimetype": "text/x-python",
   "name": "python",
   "nbconvert_exporter": "python",
   "pygments_lexer": "ipython3",
   "version": "3.11.7"
  }
 },
 "nbformat": 4,
 "nbformat_minor": 2
}
